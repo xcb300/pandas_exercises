{
 "cells": [
  {
   "cell_type": "markdown",
   "metadata": {},
   "source": [
    "# Housing Market"
   ]
  },
  {
   "cell_type": "markdown",
   "metadata": {},
   "source": [
    "### Introduction:\n",
    "\n",
    "This time we will create our own dataset with fictional numbers to describe a house market. As we are going to create random data don't try to reason of the numbers.\n",
    "\n",
    "### Step 1. Import the necessary libraries"
   ]
  },
  {
   "cell_type": "code",
   "execution_count": 1,
   "metadata": {
    "collapsed": false
   },
   "outputs": [],
   "source": [
    "import pandas as pd \n",
    "import numpy as np "
   ]
  },
  {
   "cell_type": "markdown",
   "metadata": {},
   "source": [
    "### Step 2. Create 3 differents Series, each of length 100, as follows: \n",
    "1. The first a random number from 1 to 4 \n",
    "2. The second a random number from 1 to 3\n",
    "3. The third a random number from 10,000 to 30,000"
   ]
  },
  {
   "cell_type": "code",
   "execution_count": 3,
   "metadata": {
    "collapsed": false
   },
   "outputs": [
    {
     "output_type": "execute_result",
     "data": {
      "text/plain": [
       "(array([1, 1, 2, 1, 2, 2, 2, 1, 1, 3, 1, 1, 2, 1, 3, 1, 1, 3, 2, 3, 3, 3,\n",
       "        2, 2, 1, 3, 3, 3, 2, 3, 2, 1, 3, 2, 3, 1, 3, 2, 2, 1, 1, 2, 3, 2,\n",
       "        2, 3, 1, 2, 2, 1, 1, 2, 2, 3, 3, 2, 2, 2, 2, 1, 3, 3, 3, 1, 3, 1,\n",
       "        1, 1, 2, 3, 3, 3, 3, 1, 1, 3, 1, 3, 3, 2, 2, 3, 3, 2, 2, 2, 1, 3,\n",
       "        3, 3, 2, 1, 2, 2, 2, 1, 2, 3, 3, 3]),\n",
       " array([1, 1, 2, 2, 2, 2, 2, 1, 1, 1, 2, 1, 1, 2, 2, 1, 2, 2, 1, 1, 1, 2,\n",
       "        1, 2, 1, 2, 2, 2, 2, 2, 2, 1, 1, 2, 1, 1, 1, 1, 1, 2, 2, 2, 2, 1,\n",
       "        1, 2, 2, 2, 2, 1, 2, 2, 1, 2, 1, 2, 1, 1, 2, 2, 2, 1, 1, 1, 2, 1,\n",
       "        2, 2, 2, 2, 2, 2, 2, 1, 1, 2, 1, 1, 1, 1, 1, 1, 2, 2, 1, 1, 2, 2,\n",
       "        2, 2, 1, 2, 2, 2, 2, 1, 2, 1, 2, 1]),\n",
       " array([15954, 20561, 17166, 18808, 16576, 26500, 13239, 20517, 17228,\n",
       "        23758, 16787, 27629, 21976, 27531, 19040, 18569, 23616, 11136,\n",
       "        26114, 21096, 18682, 15068, 12961, 11258, 25652, 27006, 23480,\n",
       "        16052, 15701, 16461, 14905, 17787, 23550, 24389, 15380, 15595,\n",
       "        13275, 18591, 29323, 15890, 14389, 27564, 17974, 17743, 17706,\n",
       "        28176, 20983, 10970, 22097, 16212, 14414, 19004, 22696, 24131,\n",
       "        23071, 22488, 27316, 17019, 10966, 11933, 25767, 21388, 21405,\n",
       "        22752, 23000, 13409, 21176, 27010, 24658, 19426, 18135, 26014,\n",
       "        17084, 26067, 11743, 14112, 23309, 19141, 16679, 16884, 29088,\n",
       "        18120, 11558, 22220, 24401, 27651, 11354, 29482, 24821, 16915,\n",
       "        22226, 28659, 23977, 16532, 15328, 20094, 24257, 11349, 26343,\n",
       "        20637]))"
      ]
     },
     "metadata": {},
     "execution_count": 3
    }
   ],
   "source": [
    "s1 = np.random.randint(1,4,size=100)\n",
    "s2 = np.random.randint(1,3,size=100)\n",
    "s3 = np.random.randint(10000,30000,size=100)\n",
    "s1, s2, s3"
   ]
  },
  {
   "cell_type": "markdown",
   "metadata": {},
   "source": [
    "### Step 3. Let's create a DataFrame by joinning the Series by column"
   ]
  },
  {
   "cell_type": "code",
   "execution_count": 6,
   "metadata": {
    "collapsed": false
   },
   "outputs": [
    {
     "output_type": "execute_result",
     "data": {
      "text/plain": [
       "    s1  s2     s3\n",
       "0    1   1  15954\n",
       "1    1   1  20561\n",
       "2    2   2  17166\n",
       "3    1   2  18808\n",
       "4    2   2  16576\n",
       "..  ..  ..    ...\n",
       "95   1   1  20094\n",
       "96   2   2  24257\n",
       "97   3   1  11349\n",
       "98   3   2  26343\n",
       "99   3   1  20637\n",
       "\n",
       "[100 rows x 3 columns]"
      ],
      "text/html": "<div>\n<style scoped>\n    .dataframe tbody tr th:only-of-type {\n        vertical-align: middle;\n    }\n\n    .dataframe tbody tr th {\n        vertical-align: top;\n    }\n\n    .dataframe thead th {\n        text-align: right;\n    }\n</style>\n<table border=\"1\" class=\"dataframe\">\n  <thead>\n    <tr style=\"text-align: right;\">\n      <th></th>\n      <th>s1</th>\n      <th>s2</th>\n      <th>s3</th>\n    </tr>\n  </thead>\n  <tbody>\n    <tr>\n      <th>0</th>\n      <td>1</td>\n      <td>1</td>\n      <td>15954</td>\n    </tr>\n    <tr>\n      <th>1</th>\n      <td>1</td>\n      <td>1</td>\n      <td>20561</td>\n    </tr>\n    <tr>\n      <th>2</th>\n      <td>2</td>\n      <td>2</td>\n      <td>17166</td>\n    </tr>\n    <tr>\n      <th>3</th>\n      <td>1</td>\n      <td>2</td>\n      <td>18808</td>\n    </tr>\n    <tr>\n      <th>4</th>\n      <td>2</td>\n      <td>2</td>\n      <td>16576</td>\n    </tr>\n    <tr>\n      <th>...</th>\n      <td>...</td>\n      <td>...</td>\n      <td>...</td>\n    </tr>\n    <tr>\n      <th>95</th>\n      <td>1</td>\n      <td>1</td>\n      <td>20094</td>\n    </tr>\n    <tr>\n      <th>96</th>\n      <td>2</td>\n      <td>2</td>\n      <td>24257</td>\n    </tr>\n    <tr>\n      <th>97</th>\n      <td>3</td>\n      <td>1</td>\n      <td>11349</td>\n    </tr>\n    <tr>\n      <th>98</th>\n      <td>3</td>\n      <td>2</td>\n      <td>26343</td>\n    </tr>\n    <tr>\n      <th>99</th>\n      <td>3</td>\n      <td>1</td>\n      <td>20637</td>\n    </tr>\n  </tbody>\n</table>\n<p>100 rows × 3 columns</p>\n</div>"
     },
     "metadata": {},
     "execution_count": 6
    }
   ],
   "source": [
    "df = pd.DataFrame({'s1': s1, 's2': s2, 's3': s3})\n",
    "df"
   ]
  },
  {
   "cell_type": "markdown",
   "metadata": {},
   "source": [
    "### Step 4. Change the name of the columns to bedrs, bathrs, price_sqr_meter"
   ]
  },
  {
   "cell_type": "code",
   "execution_count": 8,
   "metadata": {
    "collapsed": false
   },
   "outputs": [
    {
     "output_type": "execute_result",
     "data": {
      "text/plain": [
       "    bedrs  bathrs  price_sqr_meter\n",
       "0       1       1            15954\n",
       "1       1       1            20561\n",
       "2       2       2            17166\n",
       "3       1       2            18808\n",
       "4       2       2            16576\n",
       "..    ...     ...              ...\n",
       "95      1       1            20094\n",
       "96      2       2            24257\n",
       "97      3       1            11349\n",
       "98      3       2            26343\n",
       "99      3       1            20637\n",
       "\n",
       "[100 rows x 3 columns]"
      ],
      "text/html": "<div>\n<style scoped>\n    .dataframe tbody tr th:only-of-type {\n        vertical-align: middle;\n    }\n\n    .dataframe tbody tr th {\n        vertical-align: top;\n    }\n\n    .dataframe thead th {\n        text-align: right;\n    }\n</style>\n<table border=\"1\" class=\"dataframe\">\n  <thead>\n    <tr style=\"text-align: right;\">\n      <th></th>\n      <th>bedrs</th>\n      <th>bathrs</th>\n      <th>price_sqr_meter</th>\n    </tr>\n  </thead>\n  <tbody>\n    <tr>\n      <th>0</th>\n      <td>1</td>\n      <td>1</td>\n      <td>15954</td>\n    </tr>\n    <tr>\n      <th>1</th>\n      <td>1</td>\n      <td>1</td>\n      <td>20561</td>\n    </tr>\n    <tr>\n      <th>2</th>\n      <td>2</td>\n      <td>2</td>\n      <td>17166</td>\n    </tr>\n    <tr>\n      <th>3</th>\n      <td>1</td>\n      <td>2</td>\n      <td>18808</td>\n    </tr>\n    <tr>\n      <th>4</th>\n      <td>2</td>\n      <td>2</td>\n      <td>16576</td>\n    </tr>\n    <tr>\n      <th>...</th>\n      <td>...</td>\n      <td>...</td>\n      <td>...</td>\n    </tr>\n    <tr>\n      <th>95</th>\n      <td>1</td>\n      <td>1</td>\n      <td>20094</td>\n    </tr>\n    <tr>\n      <th>96</th>\n      <td>2</td>\n      <td>2</td>\n      <td>24257</td>\n    </tr>\n    <tr>\n      <th>97</th>\n      <td>3</td>\n      <td>1</td>\n      <td>11349</td>\n    </tr>\n    <tr>\n      <th>98</th>\n      <td>3</td>\n      <td>2</td>\n      <td>26343</td>\n    </tr>\n    <tr>\n      <th>99</th>\n      <td>3</td>\n      <td>1</td>\n      <td>20637</td>\n    </tr>\n  </tbody>\n</table>\n<p>100 rows × 3 columns</p>\n</div>"
     },
     "metadata": {},
     "execution_count": 8
    }
   ],
   "source": [
    "df.columns = ['bedrs', 'bathrs', 'price_sqr_meter']\n",
    "df"
   ]
  },
  {
   "cell_type": "markdown",
   "metadata": {},
   "source": [
    "### Step 5. Create a one column DataFrame with the values of the 3 Series and assign it to 'bigcolumn'"
   ]
  },
  {
   "cell_type": "code",
   "execution_count": 11,
   "metadata": {
    "collapsed": false
   },
   "outputs": [
    {
     "output_type": "execute_result",
     "data": {
      "text/plain": [
       "         0\n",
       "0        1\n",
       "1        1\n",
       "2        2\n",
       "3        1\n",
       "4        2\n",
       "..     ...\n",
       "295  20094\n",
       "296  24257\n",
       "297  11349\n",
       "298  26343\n",
       "299  20637\n",
       "\n",
       "[300 rows x 1 columns]"
      ],
      "text/html": "<div>\n<style scoped>\n    .dataframe tbody tr th:only-of-type {\n        vertical-align: middle;\n    }\n\n    .dataframe tbody tr th {\n        vertical-align: top;\n    }\n\n    .dataframe thead th {\n        text-align: right;\n    }\n</style>\n<table border=\"1\" class=\"dataframe\">\n  <thead>\n    <tr style=\"text-align: right;\">\n      <th></th>\n      <th>0</th>\n    </tr>\n  </thead>\n  <tbody>\n    <tr>\n      <th>0</th>\n      <td>1</td>\n    </tr>\n    <tr>\n      <th>1</th>\n      <td>1</td>\n    </tr>\n    <tr>\n      <th>2</th>\n      <td>2</td>\n    </tr>\n    <tr>\n      <th>3</th>\n      <td>1</td>\n    </tr>\n    <tr>\n      <th>4</th>\n      <td>2</td>\n    </tr>\n    <tr>\n      <th>...</th>\n      <td>...</td>\n    </tr>\n    <tr>\n      <th>295</th>\n      <td>20094</td>\n    </tr>\n    <tr>\n      <th>296</th>\n      <td>24257</td>\n    </tr>\n    <tr>\n      <th>297</th>\n      <td>11349</td>\n    </tr>\n    <tr>\n      <th>298</th>\n      <td>26343</td>\n    </tr>\n    <tr>\n      <th>299</th>\n      <td>20637</td>\n    </tr>\n  </tbody>\n</table>\n<p>300 rows × 1 columns</p>\n</div>"
     },
     "metadata": {},
     "execution_count": 11
    }
   ],
   "source": [
    "df1 = pd.DataFrame(s1)\n",
    "df2 = pd.DataFrame(s2)\n",
    "df3 = pd.DataFrame(s3)\n",
    "bigcolumn = pd.concat([df1, df2, df3], ignore_index=True)\n",
    "bigcolumn"
   ]
  },
  {
   "cell_type": "markdown",
   "metadata": {},
   "source": [
    "### Step 6. Oops, it seems it is going only until index 99. Is it true?"
   ]
  },
  {
   "cell_type": "code",
   "execution_count": 13,
   "metadata": {
    "collapsed": false
   },
   "outputs": [
    {
     "output_type": "execute_result",
     "data": {
      "text/plain": [
       "(0     1\n",
       " 1     1\n",
       " 2     2\n",
       " 3     2\n",
       " 4     2\n",
       "      ..\n",
       " 95    1\n",
       " 96    3\n",
       " 97    1\n",
       " 98    1\n",
       " 99    1\n",
       " Length: 100, dtype: int32, 0     1\n",
       " 1     2\n",
       " 2     2\n",
       " 3     1\n",
       " 4     1\n",
       "      ..\n",
       " 95    2\n",
       " 96    1\n",
       " 97    1\n",
       " 98    2\n",
       " 99    1\n",
       " Length: 100, dtype: int32, 0     13594\n",
       " 1     27637\n",
       " 2     22624\n",
       " 3     28644\n",
       " 4     21738\n",
       "       ...  \n",
       " 95    26113\n",
       " 96    10043\n",
       " 97    19184\n",
       " 98    28575\n",
       " 99    17997\n",
       " Length: 100, dtype: int32)"
      ]
     },
     "metadata": {},
     "execution_count": 13
    }
   ],
   "source": [
    "s1 = pd.Series(np.random.randint(1,4,size=100))\n",
    "s2 = pd.Series(np.random.randint(1,3,size=100))\n",
    "s3 = pd.Series(np.random.randint(10000,30000,size=100))\n",
    "s1, s2, s3"
   ]
  },
  {
   "cell_type": "markdown",
   "metadata": {},
   "source": [
    "### Step 7. Reindex the DataFrame so it goes from 0 to 299"
   ]
  },
  {
   "cell_type": "code",
   "execution_count": 16,
   "metadata": {
    "collapsed": false
   },
   "outputs": [
    {
     "output_type": "execute_result",
     "data": {
      "text/plain": [
       "    0  1      2\n",
       "0   1  1  13594\n",
       "1   1  2  27637\n",
       "2   2  2  22624\n",
       "3   2  1  28644\n",
       "4   2  1  21738\n",
       ".. .. ..    ...\n",
       "95  1  2  26113\n",
       "96  3  1  10043\n",
       "97  1  1  19184\n",
       "98  1  2  28575\n",
       "99  1  1  17997\n",
       "\n",
       "[100 rows x 3 columns]"
      ],
      "text/html": "<div>\n<style scoped>\n    .dataframe tbody tr th:only-of-type {\n        vertical-align: middle;\n    }\n\n    .dataframe tbody tr th {\n        vertical-align: top;\n    }\n\n    .dataframe thead th {\n        text-align: right;\n    }\n</style>\n<table border=\"1\" class=\"dataframe\">\n  <thead>\n    <tr style=\"text-align: right;\">\n      <th></th>\n      <th>0</th>\n      <th>1</th>\n      <th>2</th>\n    </tr>\n  </thead>\n  <tbody>\n    <tr>\n      <th>0</th>\n      <td>1</td>\n      <td>1</td>\n      <td>13594</td>\n    </tr>\n    <tr>\n      <th>1</th>\n      <td>1</td>\n      <td>2</td>\n      <td>27637</td>\n    </tr>\n    <tr>\n      <th>2</th>\n      <td>2</td>\n      <td>2</td>\n      <td>22624</td>\n    </tr>\n    <tr>\n      <th>3</th>\n      <td>2</td>\n      <td>1</td>\n      <td>28644</td>\n    </tr>\n    <tr>\n      <th>4</th>\n      <td>2</td>\n      <td>1</td>\n      <td>21738</td>\n    </tr>\n    <tr>\n      <th>...</th>\n      <td>...</td>\n      <td>...</td>\n      <td>...</td>\n    </tr>\n    <tr>\n      <th>95</th>\n      <td>1</td>\n      <td>2</td>\n      <td>26113</td>\n    </tr>\n    <tr>\n      <th>96</th>\n      <td>3</td>\n      <td>1</td>\n      <td>10043</td>\n    </tr>\n    <tr>\n      <th>97</th>\n      <td>1</td>\n      <td>1</td>\n      <td>19184</td>\n    </tr>\n    <tr>\n      <th>98</th>\n      <td>1</td>\n      <td>2</td>\n      <td>28575</td>\n    </tr>\n    <tr>\n      <th>99</th>\n      <td>1</td>\n      <td>1</td>\n      <td>17997</td>\n    </tr>\n  </tbody>\n</table>\n<p>100 rows × 3 columns</p>\n</div>"
     },
     "metadata": {},
     "execution_count": 16
    }
   ],
   "source": [
    "df = pd.concat([s1, s2, s3], axis=1)\n",
    "df"
   ]
  },
  {
   "cell_type": "code",
   "execution_count": null,
   "metadata": {},
   "outputs": [],
   "source": []
  }
 ],
 "metadata": {
  "kernelspec": {
   "name": "Python 3.7.9 32-bit ('base': conda)",
   "display_name": "Python 3.7.9 32-bit ('base': conda)",
   "metadata": {
    "interpreter": {
     "hash": "e887739d6de108e179d6fafff7cabbd7c9a64e71bb5dfa8e3d01ec94575544c1"
    }
   }
  },
  "language_info": {
   "codemirror_mode": {
    "name": "ipython",
    "version": 2
   },
   "file_extension": ".py",
   "mimetype": "text/x-python",
   "name": "python",
   "nbconvert_exporter": "python",
   "pygments_lexer": "ipython2",
   "version": "3.7.9-final"
  }
 },
 "nbformat": 4,
 "nbformat_minor": 0
}